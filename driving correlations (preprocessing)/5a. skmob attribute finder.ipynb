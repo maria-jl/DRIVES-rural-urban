{
 "cells": [
  {
   "cell_type": "code",
   "execution_count": 1,
   "id": "d4e56c63",
   "metadata": {},
   "outputs": [
    {
     "name": "stdout",
     "output_type": "stream",
     "text": [
      "importing Jupyter notebook from readdrivingdata.ipynb\n"
     ]
    }
   ],
   "source": [
    "import import_ipynb\n",
    "from readdrivingdata import read_driving_data\n",
    "\n",
    "pdata = read_driving_data() ### driving data for STL participants; at this point in the project, I will be focusing on the\n",
    "                            ### STL (main) data *only* as it has more features and is generally more comprehensive"
   ]
  },
  {
   "cell_type": "code",
   "execution_count": 2,
   "id": "3ec67361",
   "metadata": {},
   "outputs": [],
   "source": [
    "import numpy as np\n",
    "\n",
    "## 4 decimal places for latitude/longitude represent precision to about 11m, which should be sufficient to identify unique\n",
    "## locations for number_of_locations, while allowing some variation in parking location (e.g. if the participant uses street\n",
    "## parking to visit a location)... this should also be sufficient for the other functions\n",
    "\n",
    "pdata['TELat'] = np.round(pdata['TELat'], decimals = 4)\n",
    "pdata['TELong'] = np.round(pdata['TELong'], decimals = 4)"
   ]
  },
  {
   "cell_type": "code",
   "execution_count": 3,
   "id": "6f624b20",
   "metadata": {},
   "outputs": [
    {
     "name": "stderr",
     "output_type": "stream",
     "text": [
      "100%|██████████| 246/246 [00:05<00:00, 48.63it/s]\n",
      "100%|██████████| 246/246 [00:03<00:00, 70.81it/s]\n",
      "100%|██████████| 246/246 [00:02<00:00, 102.14it/s]\n",
      "100%|██████████| 246/246 [00:02<00:00, 84.98it/s] \n"
     ]
    }
   ],
   "source": [
    "import skmob\n",
    "from skmob.measures.individual import home_location, max_distance_from_home, maximum_distance, number_of_locations, radius_of_gyration\n",
    "\n",
    "tdf = skmob.TrajDataFrame(pdata, latitude='TELat', longitude='TELong', datetime='TEtime', user_id='uid')\n",
    "\n",
    "## computing 4 extra features for eaach participant in this dataset: maximum distance from home, maximum distance (in a\n",
    "## single trip), number of unique locations, and radius of gyration (essentially a measure of how far an individual travels\n",
    "## from his or her 'mean' location)\n",
    "\n",
    "maxdistances_home = max_distance_from_home(tdf)\n",
    "maxdistances = maximum_distance(tdf)\n",
    "no_locs = number_of_locations(tdf)\n",
    "rgs = radius_of_gyration(tdf)"
   ]
  },
  {
   "cell_type": "code",
   "execution_count": 4,
   "id": "6c962653",
   "metadata": {
    "scrolled": false
   },
   "outputs": [],
   "source": [
    "import pandas as pd\n",
    "\n",
    "skmobdata = pd.concat([maxdistances_home[\"max_distance_from_home\"], maxdistances[\"maximum_distance\"], no_locs[\"number_of_locations\"], \n",
    "                        rgs[\"radius_of_gyration\"]], axis = 1)\n",
    "\n",
    "skmobdata.columns = ['max. distance from home', 'max. distance/trip', 'no. unique locations', 'radius of gyration']"
   ]
  },
  {
   "cell_type": "code",
   "execution_count": 5,
   "id": "b820725b",
   "metadata": {},
   "outputs": [],
   "source": [
    "STLdata = pd.read_csv(r'C:\\Users\\maria\\OneDrive\\Documents\\RESEARCH\\Data files\\ruralurban_driving summary_main.csv')\n",
    "\n",
    "## adjusting these features for no. days in study, since max distance, no. unique locations, and radius of gyration\n",
    "## are all somewhat related to number of trips or time spent in the study... e.g. if an individual is recorded for a longer\n",
    "## period of time, there is a higher likelihood to record a 'maximum distance' or new location (of course, when study\n",
    "## time increases to multiple years per participant, the effect of changing sample time will be less significant)\n",
    "\n",
    "skmobdata2 = skmobdata.div(STLdata[\"total days in study\"], axis=0)\n",
    "skmobdata2.columns = ['max. distance from home (adj)', 'max. distance/trip (adj)', 'no. unique locations (adj)', 'radius of gyration (adj)']\n",
    "\n",
    "## now, our 'skmobdata' file will include the 4 features, both complete values as well as values that are adjusted\n",
    "## for time in study (by dividing each participant value by the number of days they participated for)\n",
    "\n",
    "skmobdata = pd.concat([skmobdata, skmobdata2], axis = 1)"
   ]
  },
  {
   "cell_type": "code",
   "execution_count": 7,
   "id": "2911e87c",
   "metadata": {},
   "outputs": [],
   "source": [
    "skmobdata.to_csv(r'C:\\Users\\maria\\OneDrive\\Documents\\RESEARCH\\Data files\\ruralurban_skmob summary_main.csv', index = False)"
   ]
  }
 ],
 "metadata": {
  "kernelspec": {
   "display_name": "Python [conda env: skmob]",
   "language": "python",
   "name": "skmob"
  },
  "language_info": {
   "codemirror_mode": {
    "name": "ipython",
    "version": 3
   },
   "file_extension": ".py",
   "mimetype": "text/x-python",
   "name": "python",
   "nbconvert_exporter": "python",
   "pygments_lexer": "ipython3",
   "version": "3.9.12"
  }
 },
 "nbformat": 4,
 "nbformat_minor": 5
}
