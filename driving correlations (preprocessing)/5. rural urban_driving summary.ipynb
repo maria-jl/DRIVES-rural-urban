{
 "cells": [
  {
   "cell_type": "code",
   "execution_count": 1,
   "id": "7077048e",
   "metadata": {
    "scrolled": true
   },
   "outputs": [],
   "source": [
    "import pandas as pd\n",
    "import numpy as np\n",
    "import statistics\n",
    "\n",
    "STLdriving = pd.read_pickle(r'C:\\Users\\maria\\OneDrive\\Documents\\RESEARCH\\Data files\\DRIVES\\trips_metrics.pkl') \n",
    "\n",
    "NCdriving = pd.read_csv(r'C:\\Users\\maria\\OneDrive\\Documents\\RESEARCH\\Data files\\DRIVES\\NC_driving20w.csv') \n",
    "NCdriving[\"date\"] = pd.to_datetime(NCdriving[\"date\"]) ## ensures date column contains date-time objects for usability\n",
    "\n",
    "NCdrivingsumm = pd.read_csv(r'C:\\Users\\maria\\OneDrive\\Documents\\RESEARCH\\Data files\\DRIVES\\NC_weeklySummary.csv') "
   ]
  },
  {
   "cell_type": "markdown",
   "id": "4f58458a",
   "metadata": {},
   "source": [
    "## for rural urban_driving summary_overall file"
   ]
  },
  {
   "cell_type": "markdown",
   "id": "bc6aa905",
   "metadata": {},
   "source": [
    "NOTE: I am creating a rural urban_driving summary file containing participants from both NC and TSL datasets and their shared driving attributes *seperately* from the NC and STL driving summary files simpy as a check. In other words, while I could have formed this file more easily as a combination of rural urban_driving summary_main and rural urban_driving summary_NC, I chose to create it seperately as a way to ensure that there are no mistakes in the creation of the overall-driving-summary files from the raw/weekly-driving-summary files."
   ]
  },
  {
   "cell_type": "code",
   "execution_count": 3,
   "id": "11ce6c23",
   "metadata": {},
   "outputs": [],
   "source": [
    "RUdriving = pd.read_csv(r'C:\\Users\\maria\\OneDrive\\Documents\\RESEARCH\\Data files\\participant _ruralurbancodes.csv')\n",
    "RUdriving = RUdriving.iloc[:, [0, 15]]  ## extracts 'uid' and 'overall code' columns\n",
    "RUdriving = RUdriving.reset_index(drop = True)\n",
    "\n",
    "### adding desired empty columns\n",
    "RUdriving[\"avg. daylight ratio\"] = ''\n",
    "RUdriving[\"avg. no. hard braking/trip\"] = ''\n",
    "RUdriving[\"avg. no. hard accel/trip\"] = ''\n",
    "RUdriving[\"avg. no. speeding/trip\"] = ''\n",
    "RUdriving[\"most frequently travelled month\"] = ''\n",
    "RUdriving[\"most frequently travelled day\"] = ''\n",
    "RUdriving[\"avg. no. trips/day\"] = ''"
   ]
  },
  {
   "cell_type": "code",
   "execution_count": 8,
   "id": "6a666a9c",
   "metadata": {},
   "outputs": [],
   "source": [
    "for i in range(246): ## for each out of the 246 participants in main dataset\n",
    "    uid = RUdriving.iloc[i, 0]\n",
    "    STLdriving_i = STLdriving[STLdriving[\"uid\"] == np.float64(uid)]\n",
    "\n",
    "    no_trips = len(STLdriving_i)\n",
    "    no_days = (STLdriving_i[\"TStime\"].iloc[-1] - STLdriving_i[\"TStime\"].iloc[0]).days + 1 \n",
    "    # the days function counts days *between* two dates, hence the +1 to count days inclusively\n",
    "\n",
    "    months = [] # list of months (1-12) corresponding to each trip\n",
    "    \n",
    "    for n in range(len(STLdriving_i)):\n",
    "        months.append(STLdriving_i.iloc[n, 15].month)\n",
    "\n",
    "    RUdriving.iloc[i, 2] = 1 - STLdriving_i[\"Night_Trip\"].mean() ## fraction of how many trips are during the day\n",
    "    RUdriving.iloc[i, 3] = STLdriving_i[\"HARD_BREAKING_MESSAGE\"].mean()  ## global avg of hard braking events/trip\n",
    "    RUdriving.iloc[i, 4] = STLdriving_i[\"HARD_ACCELERATION_MESSAGE\"].mean()  ## global avg of hard accelerating even\n",
    "    RUdriving.iloc[i, 5] = STLdriving_i[\"Count_Over_Speeding\"].mean()  ## global avg of speeding events/trip\n",
    "    RUdriving.iloc[i, 6] = statistics.mode(months) ## month with most trips, or most frequent month to travel\n",
    "    RUdriving.iloc[i, 7] = statistics.mode(STLdriving_i[\"Day_of_Week\"])  ## day of the week with most trips, or most frequent day to travel\n",
    "    RUdriving.iloc[i, 8] = no_trips/no_days  ## global avg of number of trips/day"
   ]
  },
  {
   "cell_type": "code",
   "execution_count": 17,
   "id": "1e1671cf",
   "metadata": {},
   "outputs": [],
   "source": [
    "for i in range(246, len(RUdriving)): ## the rest of participants are from NC dataset; for each NC participant,\n",
    "    uid = RUdriving.iloc[i, 0]\n",
    "    NCdriving_i = NCdriving[NCdriving[\"id\"] == uid]\n",
    "\n",
    "    no_trips = len(NCdriving_i)\n",
    "    no_days = (NCdriving_i[\"date\"].iloc[-1] - NCdriving_i[\"date\"].iloc[0]).days + 1\n",
    "    # the days function counts days *between* two dates, hence the +1 to count days inclusively\n",
    "    \n",
    "    weekdays = [] # list of weekdays (0-6) corresponding to each trip\n",
    "    \n",
    "    for n in range(len(NCdriving_i)):\n",
    "        weekdays.append(NCdriving_i.iloc[n, 1].weekday())\n",
    "\n",
    "    RUdriving.iloc[i, 2] = NCdriving_i[\"daylight\"].mean() ## fraction of how many trips are during daylight\n",
    "    RUdriving.iloc[i, 3] = NCdriving_i[\"braking\"].mean()  ## global avg of braking events /trip\n",
    "    RUdriving.iloc[i, 4] = NCdriving_i[\"accel\"].mean()  ## global avg of accelerating events/trip\n",
    "    RUdriving.iloc[i, 5] = NCdriving_i[\"speeding\"].mean()  ## global avg of speeding events/trip\n",
    "    RUdriving.iloc[i, 6] = statistics.mode(NCdriving_i[\"month\"])  ## month with most trips, or most frequent month to travel\n",
    "    RUdriving.iloc[i, 7] = statistics.mode(weekdays)  ## day of the week with most trips, or most frequent day to travel\n",
    "    RUdriving.iloc[i, 8] = no_trips/no_days  ## global avg of number of trips/day\n"
   ]
  },
  {
   "cell_type": "markdown",
   "id": "c8055a95",
   "metadata": {},
   "source": [
    "## for rural urban_driving summary_main file"
   ]
  },
  {
   "cell_type": "code",
   "execution_count": 10,
   "id": "159d7272",
   "metadata": {},
   "outputs": [],
   "source": [
    "RUdriving_main = pd.read_csv(r'C:\\Users\\maria\\OneDrive\\Documents\\RESEARCH\\Data files\\participant _ruralurbancodes.csv')\n",
    "RUdriving_main = RUdriving_main.iloc[:246, [0, 15]]\n",
    "RUdriving_main = RUdriving_main.reset_index(drop = True)\n",
    "\n",
    "### adding desired empty columns\n",
    "RUdriving_main[\"avg. no. trips/day\"] = ''\n",
    "RUdriving_main[\"avg. distance travelled\"] = ''\n",
    "RUdriving_main[\"avg. daylight ratio\"] = ''\n",
    "RUdriving_main[\"average MIN speed\"] = ''\n",
    "RUdriving_main[\"average MAX speed\"] = ''\n",
    "RUdriving_main[\"average AVG speed\"] = ''\n",
    "RUdriving_main[\"average MIN acceleration\"] = ''\n",
    "RUdriving_main[\"average MAX acceleration\"] = ''\n",
    "RUdriving_main[\"average AVG acceleration\"] = ''\n",
    "RUdriving_main[\"average MIN jerk\"] = ''\n",
    "RUdriving_main[\"average MAX jerk\"] = ''\n",
    "RUdriving_main[\"average AVG jerk\"] = ''\n",
    "RUdriving_main[\"avg. no. hard braking/trip\"] = ''\n",
    "RUdriving_main[\"avg. no. hard accel/trip\"] = ''\n",
    "RUdriving_main[\"avg. no. speeding/trip\"] = ''\n",
    "RUdriving_main[\"avg. duration\"] = ''\n",
    "RUdriving_main[\"most frequently travelled month\"] = ''\n",
    "RUdriving_main[\"most frequently travelled day\"] = ''\n",
    "RUdriving_main[\"most frequently travelled hour\"] = ''\n",
    "\n",
    "for i in range(len(RUdriving_main)):  # for each participant with driving data\n",
    "    uid = RUdriving_main.iloc[i, 0]\n",
    "    STLdriving_i = STLdriving[STLdriving[\"uid\"] == np.float64(uid)]\n",
    "    \n",
    "    no_trips = len(STLdriving_i) # total no. trips for participant\n",
    "    \n",
    "    no_days = (STLdriving_i[\"TStime\"].iloc[-1] - STLdriving_i[\"TStime\"].iloc[0]).days + 1 \n",
    "    ## no. days participant has been in driving study, from first drive recorded to last drive recorded (inclusive, so +1 needed)\n",
    "    \n",
    "    months = [] # list of months (1-12) corresponding to each trip\n",
    "    \n",
    "    for n in range(len(STLdriving_i)):\n",
    "        months.append(STLdriving_i.iloc[n, 15].month)\n",
    "\n",
    "    RUdriving_main.iloc[i, 2] = no_trips/no_days  ## average number of trips per day\n",
    "    RUdriving_main.iloc[i, 3] = STLdriving_i[\"Travelled_Dist\"].mean() ## ## global avg of distance travelled/trip\n",
    "    RUdriving_main.iloc[i, 4] = 1 - STLdriving_i[\"Night_Trip\"].mean() ## fraction of how many trips are during daylight\n",
    "    RUdriving_main.iloc[i, 5] = STLdriving_i[\"Vehicle_Speed_MIN\"].mean() ## average MIN speed for a trip\n",
    "    RUdriving_main.iloc[i, 6] = STLdriving_i[\"Vehicle_Speed_MAX\"].mean() ## average MAX speed for a trip\n",
    "    RUdriving_main.iloc[i, 7] = STLdriving_i[\"Vehicle_Speed_AVG\"].mean() ## average AVG speed for a trip\n",
    "    RUdriving_main.iloc[i, 8] = STLdriving_i[\"Acceleration_MIN\"].mean() ## average MIN acceleration for a trip\n",
    "    RUdriving_main.iloc[i, 9] = STLdriving_i[\"Acceleration_MAX\"].mean() ## average MAX acceleration for a trip\n",
    "    RUdriving_main.iloc[i, 10] = STLdriving_i[\"Acceleration_AVG\"].mean() ## average AVG acceleration for a trip\n",
    "    RUdriving_main.iloc[i, 11] = STLdriving_i[\"Jerk_MIN\"].mean() ## average MIN jerk for a trip\n",
    "    RUdriving_main.iloc[i, 12] = STLdriving_i[\"Jerk_MAX\"].mean() ## average MAX jerk for a trip\n",
    "    RUdriving_main.iloc[i, 13] = STLdriving_i[\"Jerk_AVG\"].mean() ## average AVG jerk for a trip\n",
    "    RUdriving_main.iloc[i, 14] = STLdriving_i[\"HARD_BREAKING_MESSAGE\"].mean()  ## global avg of braking events /trip\n",
    "    RUdriving_main.iloc[i, 15] = STLdriving_i[\"HARD_ACCELERATION_MESSAGE\"].mean()  ## global avg of accelerating events/trip\n",
    "    RUdriving_main.iloc[i, 16] = STLdriving_i[\"Count_Over_Speeding\"].mean()  ## global avg of speeding events/trip\n",
    "    RUdriving_main.iloc[i, 17] = STLdriving_i[\"Duration\"].mean()  ## global avg of duration/trip\n",
    "    RUdriving_main.iloc[i, 18] = statistics.mode(months)  ## month with most trips, or most frequent month to travel\n",
    "    RUdriving_main.iloc[i, 19] = statistics.mode(STLdriving_i[\"Day_of_Week\"])  ## day of the week with most trips, or most frequent day to travel\n",
    "    RUdriving_main.iloc[i, 20] = statistics.mode(STLdriving_i[\"Hour\"])  ## time of day with most trips, or most frequent hour to travel"
   ]
  },
  {
   "cell_type": "markdown",
   "id": "13b29dd8",
   "metadata": {},
   "source": [
    "## for rural urban_driving summary_NC file"
   ]
  },
  {
   "cell_type": "code",
   "execution_count": 15,
   "id": "3e4bef5e",
   "metadata": {},
   "outputs": [],
   "source": [
    "import pandas as pd\n",
    "import statistics\n",
    "\n",
    "RUdriving_NC = pd.read_csv(r'C:\\Users\\maria\\OneDrive\\Documents\\RESEARCH\\Data files\\participant _ruralurbancodes.csv')\n",
    "RUdriving_NC = RUdriving_NC.iloc[246:, [0, 15]]\n",
    "RUdriving_NC = RUdriving_NC.reset_index(drop = True)\n",
    "\n",
    "### adding desired empty columns\n",
    "RUdriving_NC[\"avg. no. trips/day\"] = ''\n",
    "RUdriving_NC[\"no. unique locations\"] = ''\n",
    "RUdriving_NC[\"avg. distance from PrimeLoc (km)\"] = ''\n",
    "RUdriving_NC[\"avg. daylight ratio\"] = ''\n",
    "RUdriving_NC[\"avg. no. braking/trip\"] = ''\n",
    "RUdriving_NC[\"avg. no. accel/trip\"] = ''\n",
    "RUdriving_NC[\"avg. no. speeding/trip\"] = ''\n",
    "RUdriving_NC[\"avg. no. aggr/trip\"] = ''\n",
    "RUdriving_NC[\"most frequently travelled month\"] = ''\n",
    "RUdriving_NC[\"most frequently travelled day\"] = ''\n",
    "\n",
    "\n",
    "## as a note, I am trying to use 'global averages' (total sum/total number of values) to calculate means here rather than\n",
    "## calculating mean of means, which I realize is generally considered to be less accurate unless one accounts for\n",
    "## differing sample sizes\n",
    "\n",
    "for i in range(len(RUdriving_NC)): # for each participant with driving data\n",
    "    uid = RUdriving_NC.iloc[i, 0]\n",
    "    NCdriving_i = NCdriving[NCdriving[\"id\"] == uid]          ## driving data for individual participant\n",
    "    NCdriving_ii = NCdrivingsumm[NCdrivingsumm[\"id\"] == uid]  ## weekly summary driving data for individual participant\n",
    "    \n",
    "    no_trips = len(NCdriving_i)  ## total no. trips for participant\n",
    "    \n",
    "    no_days = (NCdriving_i[\"date\"].iloc[-1] - NCdriving_i[\"date\"].iloc[0]).days + 1 \n",
    "    ## no. days participant has been in driving study, from first drive recorded to last drive recorded (inclusive, so +1 needed)\n",
    "    \n",
    "    weekdays = [] # list of weekdays (0-6) corresponding to each trip\n",
    "    \n",
    "    for n in range(len(NCdriving_i)):\n",
    "        weekdays.append(NCdriving_i.iloc[n, 1].weekday())\n",
    "        \n",
    "        \n",
    "    RUdriving_NC.iloc[i, 2] = no_trips/no_days ## average no. trips per day\n",
    "    RUdriving_NC.iloc[i, 3] = NCdriving_ii[\"nUniqueLoc\"].sum() ## total no. unique locations\n",
    "    RUdriving_NC.iloc[i, 4] = NCdriving_i[\"hav_fromPrimeLoc\"].mean() ## average dist from PrimeLoc\n",
    "    RUdriving_NC.iloc[i, 5] = NCdriving_i[\"daylight\"].mean() ## fraction of how many trips are during daylight\n",
    "    RUdriving_NC.iloc[i, 6] = NCdriving_i[\"braking\"].mean()  ## global avg of braking events /trip\n",
    "    RUdriving_NC.iloc[i, 7] = NCdriving_i[\"accel\"].mean()  ## global avg of accelerating events/trip\n",
    "    RUdriving_NC.iloc[i, 8] = NCdriving_i[\"speeding\"].mean()  ## global avg of speeding events/trip, same as .sum()/no_trips\n",
    "    RUdriving_NC.iloc[i, 9] = NCdriving_ii[\"anyAggr_sum\"].sum()/no_trips  ## global avg of aggressions/trip\n",
    "    RUdriving_NC.iloc[i, 10] = statistics.mode(NCdriving_i[\"month\"])  ## month with most trips, or most frequent month to travel\n",
    "    RUdriving_NC.iloc[i, 11] = statistics.mode(weekdays)  ## day of the week with most trips, or most frequent day to travel\n",
    "\n",
    "    #NOTE: RUdriving_NC.iloc[i, 5] = NCdriving_ii[\"day_sum\"].sum()/no_trips is an equivalent way to calculate avg. daylight ratio"
   ]
  },
  {
   "cell_type": "code",
   "execution_count": 20,
   "id": "d97a148d",
   "metadata": {},
   "outputs": [],
   "source": [
    "RUdriving_NC.to_csv(r'C:\\Users\\maria\\OneDrive\\Documents\\RESEARCH\\Data files\\ruralurban_driving summary_NC.csv', index = False)\n",
    "RUdriving_main.to_csv(r'C:\\Users\\maria\\OneDrive\\Documents\\RESEARCH\\Data files\\ruralurban_driving summary_main.csv', index = False)\n",
    "RUdriving.to_csv(r'C:\\Users\\maria\\OneDrive\\Documents\\RESEARCH\\Data files\\ruralurban_driving summary_overall.csv', index = False)"
   ]
  }
 ],
 "metadata": {
  "kernelspec": {
   "display_name": "Python 3 (ipykernel)",
   "language": "python",
   "name": "python3"
  },
  "language_info": {
   "codemirror_mode": {
    "name": "ipython",
    "version": 3
   },
   "file_extension": ".py",
   "mimetype": "text/x-python",
   "name": "python",
   "nbconvert_exporter": "python",
   "pygments_lexer": "ipython3",
   "version": "3.8.13"
  }
 },
 "nbformat": 4,
 "nbformat_minor": 5
}
