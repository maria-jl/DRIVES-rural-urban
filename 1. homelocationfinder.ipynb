{
 "cells": [
  {
   "cell_type": "code",
   "execution_count": 2,
   "id": "d9a90b30",
   "metadata": {
    "scrolled": false
   },
   "outputs": [],
   "source": [
    "import import_ipynb\n",
    "from readdrivingdata import read_driving_data\n",
    "from readdrivingdata import read_NC_driving_data\n",
    "\n",
    "pdata = read_driving_data()\n",
    "pdata_NC = read_NC_driving_data()"
   ]
  },
  {
   "cell_type": "code",
   "execution_count": 3,
   "id": "dfcded44",
   "metadata": {},
   "outputs": [],
   "source": [
    "import skmob\n",
    "from skmob.measures.individual import home_location\n",
    "import pandas as pd\n",
    "import numpy as np\n",
    "from geopy.geocoders import GoogleV3\n",
    "\n",
    "geolocator = GoogleV3(api_key=\"xxxx\")"
   ]
  },
  {
   "cell_type": "code",
   "execution_count": 4,
   "id": "fce2f6dc",
   "metadata": {},
   "outputs": [],
   "source": [
    "def homelocfinder(data, lat_col, long_col, date_col, id_col, rounding = None):\n",
    "    '''\n",
    "    This function takes the input of a driving dataset with latitude, longitude, datetime, and user_id columns, and uses the \n",
    "    skmob home_location function to find each individual's home coordinates (latitude and longitude) as the most common location\n",
    "    visited or returned to at night. It also gives the option of rounding latitude and longitude values before passing them\n",
    "    to the internal skmob function, which is intended to enable the function to maximize the amount of home locations it\n",
    "    can find when dealing with data that involves a large number of data points (e.g. GPS data).\n",
    "\n",
    "    Arguments required are:\n",
    "\n",
    "    data (dataframe) = driving dataset, with four columns containing latitude, longitude, datetime, and user id, respectively\n",
    "    lat_col (str) =  name of the column in \"data\" that contains latitude values\n",
    "    long_col (str) =  name of the column in \"data\" that contains longitude values\n",
    "    date_col (str) =  name of the column in \"data\" that contains date-time values\n",
    "    id_col (str) =  name of the column in \"data\" that contains participant identification codes\n",
    "    rounding (int, optional) = number of decimal points to round latitude and longitude values in \"data\" to\n",
    "\n",
    "    Other requirements include the skmob library and environment.\n",
    "\n",
    "    '''\n",
    "\n",
    "    if rounding is not None:\n",
    "        data[lat_col] = np.round(data[lat_col], decimals = rounding)\n",
    "        data[long_col] = np.round(data[long_col], decimals = rounding)\n",
    "        \n",
    "    tdf = skmob.TrajDataFrame(data, latitude = lat_col, longitude = long_col, datetime = date_col, user_id = id_col)\n",
    "    \n",
    "    return home_location(tdf)\n",
    "\n",
    "    \n",
    "def homeaddressfinder(hloc_df):\n",
    "    '''\n",
    "    This function takes the input of a driving dataset with user_id, home latitude, and home longitude columns (in that order).\n",
    "    It uses Geopy's GoogleV3 API to determine home addresses (col 3) from the determined lat and long coordinates and add them\n",
    "    to the provided dataframe.\n",
    "\n",
    "    Arguments required are:\n",
    "    hloc_df (dataframe) = dataset with three columns containing user id, home latitude, and home longitude, respectively... \n",
    "                            e.g. the dataframe returned from homelocfinder\n",
    "\n",
    "    Other requirements include the GoogleV3 library from geopy.geocoders.\n",
    "\n",
    "    '''\n",
    "\n",
    "    hloc_df['address'] = ''\n",
    "\n",
    "    for i in range(len(hloc_df)):\n",
    "        try:\n",
    "            lat = hloc_df.iloc[i, 1]\n",
    "            long = hloc_df.iloc[i, 2]\n",
    "            hloc_df.iloc[i, 3] = str(geolocator.reverse(f\"{lat}, {long}\"))\n",
    "        finally:\n",
    "            pass\n",
    "    \n",
    "    return hloc_df\n",
    "\n",
    "\n",
    "def homeaddressfiller(hloc_df, hloc_df2):\n",
    "    '''\n",
    "    This function works similarly to homeaddressfinder, however it is meant to FILL hloc_df if home coordinates/\n",
    "    addresses are missing for some individuals. It takes the input of two dataframes with home locations and addresses,\n",
    "    where the first one (hloc_df) is more desirable, i.e. more precise/accurate, but is missing some rows of location \n",
    "    information, and the second one (hloc_df2) is less desirable but used to fill in the missing rows in hloc_df. For\n",
    "    this function to work, both dataframes must be identical in format (e.g. same number of rows and same uid's in each row).\n",
    "\n",
    "    Arguments required are:\n",
    "    hloc_df (dataframe) = dataset with four columns containing user id, home latitude, home longitude, and home \n",
    "    addresses, respectively... e.g. a dataframe returned from homeaddressfinder BUT missing some home locations\n",
    "    hloc_df2 (dataframe) = dataset with three columns containing user id, home latitude, and home longitude, \n",
    "    respectively... e.g. a dataframe returned from homelocfinder BUT with no home locations missing\n",
    "\n",
    "    Other requirements include the GoogleV3 library from geopy.geocoders.\n",
    "\n",
    "    '''\n",
    "    participants = hloc_df[hloc_df['lat'] == np.float64(0)] ## dataframe of participants with missing home locations\n",
    "\n",
    "    for uid in participants['uid']:\n",
    "        i = hloc_df2[hloc_df2['uid'] == np.float64(uid)].index.values[0]  ## finds index of participants with missing home locations\n",
    "\n",
    "        lat = hloc_df2.iloc[i, 1]\n",
    "        long = hloc_df2.iloc[i, 2]\n",
    "        \n",
    "        hloc_df.iloc[i, 1] = lat    ## places new home lat/long/addresses\n",
    "        hloc_df.iloc[i, 2] = long      ##  in original hloc_df dataframe\n",
    "        hloc_df.iloc[i, 3] = str(geolocator.reverse(f\"{lat}, {long}\"))\n",
    "    \n",
    "    return hloc_df"
   ]
  },
  {
   "cell_type": "code",
   "execution_count": 5,
   "id": "e5d99ba2",
   "metadata": {
    "scrolled": true
   },
   "outputs": [
    {
     "name": "stderr",
     "output_type": "stream",
     "text": [
      "100%|██████████| 246/246 [00:01<00:00, 150.07it/s]\n"
     ]
    }
   ],
   "source": [
    "#### To find home locations for participants from the driving/GPS data, we will first round the latitude/longitude values\n",
    "### to minimize errors that may occur due to slight differences in later decimal points of measured latitudes/longitudes.\n",
    "## The fifth decimal place corresponds to approxiamtely 1.1 m, which should be more than enough to accurately locate \n",
    "# a residence.\n",
    "\n",
    "### using skmob function to determine home locations (lat/long)\n",
    "hloc_df = homelocfinder(pdata, 'TELat', 'TELong', 'TEtime', 'uid', 5)\n",
    "\n",
    "### using Google API to determine home addresses (from lat/long)\n",
    "hloc_df = homeaddressfinder(hloc_df)"
   ]
  },
  {
   "cell_type": "code",
   "execution_count": 6,
   "id": "376e9b7f",
   "metadata": {},
   "outputs": [
    {
     "name": "stderr",
     "output_type": "stream",
     "text": [
      "100%|██████████| 246/246 [00:01<00:00, 169.84it/s]\n"
     ]
    }
   ],
   "source": [
    "### For the participants that the function was unable to find a home location for, we will try creating another\n",
    "## version of hloc_df using less precise latitude and longitude values (to four decimal places, corresponding to \n",
    "# approximately 11 m) and running homeaddressfiller.\n",
    "\n",
    "### using skmob function to determine home locations (lat/long)... easiest to just repeat for all participants\n",
    "hloc_df2 = homelocfinder(pdata, 'TELat', 'TELong', 'TEtime', 'uid', 4)\n",
    "\n",
    "### using Google API to determine home addresses (from lat/long)\n",
    "hloc_df = homeaddressfiller(hloc_df,  hloc_df2)\n",
    "\n",
    "\n",
    "#### ultimately, hloc_df and hloc_df2 have essentially the same addresses; however, this method allows us to use\n",
    "#### the more precise latitude/longitude values for most participants (since 11m may lead to some inaccuracies in\n",
    "#### in determining exact home address) while also locating approximate home addresses for any participants that \n",
    "#### the function was not intially able to find home addresses for\n"
   ]
  },
  {
   "cell_type": "code",
   "execution_count": 7,
   "id": "af781f80",
   "metadata": {},
   "outputs": [
    {
     "name": "stderr",
     "output_type": "stream",
     "text": [
      "100%|██████████| 39/39 [00:00<00:00, 449.66it/s]\n"
     ]
    }
   ],
   "source": [
    "### using skmob function to determine home locations (lat/long) for NC participants; note we are processing\n",
    "## this data seperately from the main dataset b/c some discrepancies occurred when both were combined first...\n",
    "# perhaps because pdata has date+time and pdata_NC has only date; also, no rounding seems to be needed to find all addresses\n",
    "\n",
    "hloc_df_NC = homelocfinder(pdata_NC,'tripEndLat', 'tripEndLon', 'date', 'id')\n",
    "\n",
    "### using Google API to determine home addresses (from lat/long)\n",
    "\n",
    "hloc_df_NC = homeaddressfinder(hloc_df_NC)\n"
   ]
  },
  {
   "cell_type": "code",
   "execution_count": 8,
   "id": "908e755b",
   "metadata": {
    "scrolled": true
   },
   "outputs": [],
   "source": [
    "hloc_full = pd.concat([hloc_df, hloc_df_NC])\n",
    "hloc_full.reset_index(inplace = True, drop = True)\n",
    "\n",
    "hloc_full.to_csv(r'C:\\Users\\maria\\OneDrive\\Documents\\RESEARCH\\Data files\\participant home addresses.csv', index=False)"
   ]
  }
 ],
 "metadata": {
  "kernelspec": {
   "display_name": "Python [conda env: skmob]",
   "language": "python",
   "name": "skmob"
  },
  "language_info": {
   "codemirror_mode": {
    "name": "ipython",
    "version": 3
   },
   "file_extension": ".py",
   "mimetype": "text/x-python",
   "name": "python",
   "nbconvert_exporter": "python",
   "pygments_lexer": "ipython3",
   "version": "3.9.12"
  }
 },
 "nbformat": 4,
 "nbformat_minor": 5
}
