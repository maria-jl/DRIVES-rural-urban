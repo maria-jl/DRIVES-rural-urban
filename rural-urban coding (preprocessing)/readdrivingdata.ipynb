{
 "cells": [
  {
   "cell_type": "code",
   "execution_count": 1,
   "id": "5af3e997",
   "metadata": {},
   "outputs": [],
   "source": [
    "import pandas as pd\n",
    "\n",
    "def read_driving_data():\n",
    "    pdata = pd.read_pickle(r'C:\\Users\\maria\\OneDrive\\Documents\\RESEARCH\\Data files\\DRIVES\\trips_metrics.pkl')\n",
    "    pdata = pdata.reset_index(drop = True)\n",
    "    return pdata\n",
    "\n",
    "def read_NC_driving_data():\n",
    "    pdata2 = pd.read_csv(r'C:\\Users\\maria\\OneDrive\\Documents\\RESEARCH\\Data files\\DRIVES\\NC_driving20w.csv')\n",
    "    pdata2 = pdata2.reset_index(drop = True)\n",
    "    return pdata2"
   ]
  }
 ],
 "metadata": {
  "kernelspec": {
   "display_name": "Python 3 (ipykernel)",
   "language": "python",
   "name": "python3"
  },
  "language_info": {
   "codemirror_mode": {
    "name": "ipython",
    "version": 3
   },
   "file_extension": ".py",
   "mimetype": "text/x-python",
   "name": "python",
   "nbconvert_exporter": "python",
   "pygments_lexer": "ipython3",
   "version": "3.8.13"
  }
 },
 "nbformat": 4,
 "nbformat_minor": 5
}
