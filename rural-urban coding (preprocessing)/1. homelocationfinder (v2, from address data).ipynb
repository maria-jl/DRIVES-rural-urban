{
 "cells": [
  {
   "cell_type": "code",
   "execution_count": 3,
   "metadata": {},
   "outputs": [],
   "source": [
    "import pandas as pd\n",
    "\n",
    "skmobhomelocs = pd.read_csv(r'C:\\Users\\maria\\OneDrive\\Documents\\RESEARCH\\Data files\\participant home addresses (skmob).csv')\n",
    "\n",
    "homelocs = pd.read_pickle(r'C:\\Users\\maria\\OneDrive\\Documents\\RESEARCH\\Data files\\DRIVES\\uid_HomeLocations.pkl')\n",
    "homelocs = homelocs.reset_index(drop = True) ## dropping arbitrary index present in file\n",
    "homelocs = homelocs.drop_duplicates()        ## dropping identical rows for each participant, since this file was obtained from another dataset\n",
    "homelocs[''] = ''                            ## creating an empty column for the addresses\n",
    "\n",
    "homelocs.columns = ['uid', 'lng', 'lat', 'address'] ## renames columns to match format in homelocationfinder (v1)\n",
    "homelocs =  homelocs[['uid', 'lat', 'lng', 'address']] ## swaps latitude and longitude columns so lat is first"
   ]
  },
  {
   "cell_type": "code",
   "execution_count": 5,
   "metadata": {},
   "outputs": [],
   "source": [
    "from geopy.geocoders import GoogleV3\n",
    "import numpy as np\n",
    "\n",
    "geolocator = GoogleV3(api_key=\"xxxx\")\n",
    "\n",
    "for i in range(len(homelocs)):\n",
    "    try:\n",
    "        lat = homelocs.iloc[i, 1]\n",
    "        long = homelocs.iloc[i, 2]\n",
    "        homelocs.iloc[i, 3] = str(geolocator.reverse(f\"{lat}, {long}\"))\n",
    "\n",
    "    except ValueError: ## if participant's home lat/long = NaN\n",
    "        uid = homelocs.iloc[i, 0] # numpy float\n",
    "        row = skmobhomelocs[skmobhomelocs['uid'] == str(uid)] ## finds participant's row in skmob home locations file\n",
    "        homelocs.iloc[i, 1] = row.iloc[0, 1]  ## and inserts skmob location information for that participant\n",
    "        homelocs.iloc[i, 2] = row.iloc[0, 2]\n",
    "        homelocs.iloc[i, 3] = row.iloc[0, 3]                "
   ]
  },
  {
   "cell_type": "code",
   "execution_count": 7,
   "metadata": {},
   "outputs": [],
   "source": [
    "homelocs.to_csv(r'C:\\Users\\maria\\OneDrive\\Documents\\RESEARCH\\Data files\\participant home addresses.csv', index = False)"
   ]
  }
 ],
 "metadata": {
  "kernelspec": {
   "display_name": "Python 3.10.4 64-bit",
   "language": "python",
   "name": "python3"
  },
  "language_info": {
   "codemirror_mode": {
    "name": "ipython",
    "version": 3
   },
   "file_extension": ".py",
   "mimetype": "text/x-python",
   "name": "python",
   "nbconvert_exporter": "python",
   "pygments_lexer": "ipython3",
   "version": "3.10.4"
  },
  "orig_nbformat": 4,
  "vscode": {
   "interpreter": {
    "hash": "82426e9ecc58341f1ef8e214ae82fe6c690940504c0647c777d68997be611dce"
   }
  }
 },
 "nbformat": 4,
 "nbformat_minor": 2
}
